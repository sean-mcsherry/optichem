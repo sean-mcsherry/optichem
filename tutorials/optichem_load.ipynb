{
 "cells": [
  {
   "cell_type": "markdown",
   "metadata": {},
   "source": [
    "## **Getting Started**\n",
    "**Open [load_fit.ipynb](/tests/load_fit.ipynb) in JupyterLab and follow along with this tutorial.**\n",
    "\n",
    "-------------------------------------------------------------------------------------------------------"
   ]
  },
  {
   "cell_type": "markdown",
   "metadata": {},
   "source": [
    "## **Upload ATR data and initialize experimental conditions**\n",
    "**(1) Start by enabiling the ipympl backend, which allows matplotlib widgets to function properly in Jupyter.**"
   ]
  },
  {
   "cell_type": "code",
   "execution_count": null,
   "metadata": {},
   "outputs": [],
   "source": [
    "# enable matplotlib widgets\n",
    "%matplotlib widget"
   ]
  },
  {
   "cell_type": "markdown",
   "metadata": {},
   "source": [
    "**(2) Import class model from the optichem.semi_auto_fit module.**"
   ]
  },
  {
   "cell_type": "code",
   "execution_count": null,
   "metadata": {},
   "outputs": [],
   "source": [
    "# import the class model from the semi_auto_fit module\n",
    "from optichem.semi_auto_fit import model \n",
    "s = model()"
   ]
  },
  {
   "cell_type": "markdown",
   "metadata": {},
   "source": [
    "**(3) Set the refractive index of the ATR crystal and the incidence angle of light. Both values can be found in the manual or technical spec sheet of the instrument.**"
   ]
  },
  {
   "cell_type": "code",
   "execution_count": null,
   "metadata": {},
   "outputs": [],
   "source": [
    "# set the refractive index of the ATR crystal (2.4 for diamond, 4 for Ge, 3.4 for Si, or 2.4 for ZnSe)\n",
    "s.set_crystal_index(2.4 + 1j*1e-5)\n",
    "\n",
    "# set the angle of incidence (found in ATR manual)\n",
    "s.set_angle_of_incidence(45)"
   ]
  },
  {
   "cell_type": "markdown",
   "metadata": {},
   "source": [
    "**(4) Set the real part of the refractive index in the low-wavelength limit. This value (typically taken at 600 - 1000nm) is often reported in the SDS of the material. If this is not specificied, the default value is 1.**"
   ]
  },
  {
   "cell_type": "code",
   "execution_count": null,
   "metadata": {},
   "outputs": [],
   "source": [
    "# set the refractivde index in the visible spectrum (usually found on materials SDS)\n",
    "s.set_n(1.367)"
   ]
  },
  {
   "cell_type": "markdown",
   "metadata": {},
   "source": [
    "**(5) Set the x-axis input units of the ATR spectrum, which is typically (1/cm). Next, set the desired output units. The possibile options include '1/cm', 'Hz', 'rad/s', 'nm', 'um', 'm', 'eV'.**"
   ]
  },
  {
   "cell_type": "code",
   "execution_count": null,
   "metadata": {},
   "outputs": [],
   "source": [
    "# set x-axis input units of uploaded spectra and desried output units options include: '1/cm', 'Hz', 'rad/s', 'nm', 'um', 'm', 'eV'\n",
    "s.set_input_units('1/cm')\n",
    "s.set_output_units('um')"
   ]
  },
  {
   "cell_type": "markdown",
   "metadata": {},
   "source": [
    "**(6) Upload the experimental data and upload the fitted optical properties.**"
   ]
  },
  {
   "cell_type": "code",
   "execution_count": null,
   "metadata": {},
   "outputs": [],
   "source": [
    "# --- upload data file\n",
    "s.load_data('tests/ATR_measurements/IPA_ATR_data.txt')\n",
    "s.load_modes('tests/optichem_results/IPA_modes')"
   ]
  },
  {
   "cell_type": "markdown",
   "metadata": {},
   "source": [
    "![SegmentLocal](stitch_test.png \"segment\")"
   ]
  }
 ],
 "metadata": {
  "kernelspec": {
   "display_name": "Python 3",
   "language": "python",
   "name": "python3"
  },
  "language_info": {
   "codemirror_mode": {
    "name": "ipython",
    "version": 3
   },
   "file_extension": ".py",
   "mimetype": "text/x-python",
   "name": "python",
   "nbconvert_exporter": "python",
   "pygments_lexer": "ipython3",
   "version": "3.6.9"
  }
 },
 "nbformat": 4,
 "nbformat_minor": 4
}
