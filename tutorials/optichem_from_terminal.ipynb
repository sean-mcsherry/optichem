{
 "cells": [
  {
   "cell_type": "markdown",
   "metadata": {},
   "source": [
    "## **Getting Started**\n",
    "\n",
    "**To run the test file from the terminal, run the following commands:**\n",
    "```\n",
    "cd optichem/tests\n",
    "python3 IPA_test_fit.py\n",
    "```\n",
    "\n",
    "**A full description of the test file can be found below**\n",
    "\n",
    "-------------------------------------------------------------------------------------------------------"
   ]
  },
  {
   "cell_type": "markdown",
   "metadata": {},
   "source": [
    "## **Upload ATR data and initialize experimental conditions**\n",
    "**(1) Import class model from the optichem.semi_auto_fit module.**"
   ]
  },
  {
   "cell_type": "code",
   "execution_count": null,
   "metadata": {},
   "outputs": [],
   "source": [
    "# import the class model from the semi_auto_fit module\n",
    "from optichem.semi_auto_fit import model \n",
    "s = model()"
   ]
  },
  {
   "cell_type": "markdown",
   "metadata": {},
   "source": [
    "**(2) Set the refractive index of the ATR crystal and the incidence angle of light. Both values can be found in the manual or technical spec sheet of the instrument.**"
   ]
  },
  {
   "cell_type": "code",
   "execution_count": null,
   "metadata": {},
   "outputs": [],
   "source": [
    "# set the refractive index of the ATR crystal (2.4 for diamond, 4 for Ge, 3.4 for Si, or 2.4 for ZnSe)\n",
    "s.set_crystal_index(2.4 + 1j*1e-5)\n",
    "\n",
    "# set the angle of incidence (found in ATR manual)\n",
    "s.set_angle_of_incidence(45)"
   ]
  },
  {
   "cell_type": "markdown",
   "metadata": {},
   "source": [
    "**(3) Set the real part of the refractive index in the low-wavelength limit. This value (typically taken at 600 - 1000nm) is often reported in the SDS of the material. If this is not specificied, the default value is 1.**"
   ]
  },
  {
   "cell_type": "code",
   "execution_count": null,
   "metadata": {},
   "outputs": [],
   "source": [
    "# set the refractivde index in the visible spectrum (usually found on materials SDS)\n",
    "s.set_n(1.367)"
   ]
  },
  {
   "cell_type": "markdown",
   "metadata": {},
   "source": [
    "**(4) Set the x-axis input units of the ATR spectrum, which is typically (1/cm). Next, set the desired output units. The possibile options include '1/cm', 'Hz', 'rad/s', 'nm', 'um', 'm', 'eV'.**"
   ]
  },
  {
   "cell_type": "code",
   "execution_count": null,
   "metadata": {},
   "outputs": [],
   "source": [
    "# set x-axis input units of uploaded spectra and desried output units options include: '1/cm', 'Hz', 'rad/s', 'nm', 'um', 'm', 'eV'\n",
    "s.set_input_units('1/cm')\n",
    "s.set_output_units('um')"
   ]
  },
  {
   "cell_type": "markdown",
   "metadata": {},
   "source": [
    "**(5) Upload the data as a tab separated text file. The first column is the wavenumber/wavelength/frequency/energy and the second column in the absorbance between 0-1. Here is an example of the first five rows of the data file:<br><br>**\n",
    "*401 &nbsp;&nbsp; &nbsp;&nbsp;&nbsp;&nbsp;&nbsp;&nbsp;&nbsp;&nbsp;&nbsp;&nbsp;0.082727<br>\n",
    "402.028&nbsp;&nbsp; &nbsp;&nbsp;&nbsp;&nbsp;0.085270<br>\n",
    "403.056&nbsp;&nbsp; &nbsp;&nbsp;&nbsp;&nbsp;0.089266<br>\n",
    "404.084&nbsp;&nbsp; &nbsp;&nbsp;&nbsp;&nbsp;0.093743<br>\n",
    "405.113&nbsp;&nbsp; &nbsp;&nbsp;&nbsp;&nbsp;0.097865<br>\n",
    "406.141&nbsp;&nbsp; &nbsp;&nbsp;&nbsp;&nbsp;0.101136<br>\n",
    "...&nbsp;&nbsp;&nbsp;&nbsp;&nbsp;&nbsp;&nbsp;&nbsp;&nbsp;&nbsp;&nbsp;&nbsp;&nbsp;&nbsp;&nbsp;&nbsp;&nbsp;&nbsp;...*<br>"
   ]
  },
  {
   "cell_type": "code",
   "execution_count": null,
   "metadata": {},
   "outputs": [],
   "source": [
    "# upload ATR data file\n",
    "s.upload('ATR_measurements/IPA_ATR_data.txt')"
   ]
  },
  {
   "cell_type": "markdown",
   "metadata": {},
   "source": [
    "-------------------------------------------------------------------------------------------------------"
   ]
  },
  {
   "cell_type": "markdown",
   "metadata": {},
   "source": [
    "## **Set the wavelength range and vibrational modes interactively**\n",
    "**(6) After uploading the data, a figure will appear. The wavelength range can be set by left clicking and spanning across the desired range on the top subplot. The wavlength range on the bottom subplot will adjust to the desired range.**"
   ]
  },
  {
   "cell_type": "markdown",
   "metadata": {},
   "source": [
    "![SegmentLocal](wL_range_select.gif \"segment\")"
   ]
  },
  {
   "cell_type": "markdown",
   "metadata": {},
   "source": [
    "**Alternatively, the wavelength range can be set manually, after uploading the data.**"
   ]
  },
  {
   "cell_type": "code",
   "execution_count": null,
   "metadata": {},
   "outputs": [],
   "source": [
    "# set wavelength range manually\n",
    "s.set_range(6.5, 12.5) "
   ]
  },
  {
   "cell_type": "markdown",
   "metadata": {},
   "source": [
    "**(7) The suggested vibrational modes (based on an auto peak finding algorithm) will appear as + marks. If your data is noisy, several unwanted modes may apppear.**<br> \n",
    "* To ADD more modes, left click on the bottom subplot \n",
    "* The modes can be dragged into position. \n",
    "* Modes can be removed with a right click"
   ]
  },
  {
   "cell_type": "markdown",
   "metadata": {},
   "source": [
    "![SegmentLocal](add_change_remove_mode.gif \"segment\")"
   ]
  },
  {
   "cell_type": "markdown",
   "metadata": {},
   "source": [
    "**Upon selecting and rearranging the modes, close the matplotlib figure to initiate the solver. Closing the figure allows the code to procedd**"
   ]
  },
  {
   "cell_type": "markdown",
   "metadata": {},
   "source": [
    "-------------------------------------------------------------------------------------------------------"
   ]
  },
  {
   "cell_type": "markdown",
   "metadata": {},
   "source": [
    "## **Solve, plot, and export results**\n",
    "**(8) By closing the first figure, the solver will start. Solving time will depend on how many modes are present and the accuracy of your initial guess. For a system with 10-15 modes and well defined peaks, the solver will run for 30 - 120 seconds. If you have more modes, we suggest splitting the wavelength up into several ranges and then using our *s.stich()* function to combine and solve for a larger wavelength range.**"
   ]
  },
  {
   "cell_type": "code",
   "execution_count": null,
   "metadata": {},
   "outputs": [],
   "source": [
    "# inital solver and plot results\n",
    "s.start_solver()\n",
    "s.plot_fit()"
   ]
  },
  {
   "cell_type": "markdown",
   "metadata": {},
   "source": [
    "![SegmentLocal](test_model_fit.png \"segment\")<br>"
   ]
  },
  {
   "cell_type": "markdown",
   "metadata": {},
   "source": [
    "**(9) Save the extracted optical properties in a .txt file. The data will be output in 5 columns: wavelength, n, k, real(eps), imag(eps). Here, n and k represent the real and imaginary part of the refractive index. real(eps) and imag(eps) represent the real and imaginary part of the permittivity. Below is an output of the first five columns of the exported .txt file** <br><br>\n",
    "*24.93&nbsp;&nbsp;&nbsp;&nbsp;&nbsp;&nbsp;1.439&nbsp;&nbsp;&nbsp;&nbsp;&nbsp;&nbsp;1.93e-02&nbsp;&nbsp;&nbsp;&nbsp;&nbsp;&nbsp;2.072&nbsp;&nbsp;&nbsp;&nbsp;&nbsp;&nbsp;5.56e-02<br>\n",
    "24.87&nbsp;&nbsp;&nbsp;&nbsp;&nbsp;&nbsp;1.439&nbsp;&nbsp;&nbsp;&nbsp;&nbsp;&nbsp;2.02e-02&nbsp;&nbsp;&nbsp;&nbsp;&nbsp;&nbsp;2.073&nbsp;&nbsp;&nbsp;&nbsp;&nbsp;&nbsp;5.84e-02<br>\n",
    "24.81&nbsp;&nbsp;&nbsp;&nbsp;&nbsp;&nbsp;1.440&nbsp;&nbsp;&nbsp;&nbsp;&nbsp;&nbsp;2.12e-02&nbsp;&nbsp;&nbsp;&nbsp;&nbsp;&nbsp;2.073&nbsp;&nbsp;&nbsp;&nbsp;&nbsp;&nbsp;6.12e-02<br>\n",
    "24.74&nbsp;&nbsp;&nbsp;&nbsp;&nbsp;&nbsp;1.440&nbsp;&nbsp;&nbsp;&nbsp;&nbsp;&nbsp;2.22e-02&nbsp;&nbsp;&nbsp;&nbsp;&nbsp;&nbsp;2.073&nbsp;&nbsp;&nbsp;&nbsp;&nbsp;&nbsp;6.42e-02<br>\n",
    "24.68&nbsp;&nbsp;&nbsp;&nbsp;&nbsp;&nbsp;1.440&nbsp;&nbsp;&nbsp;&nbsp;&nbsp;&nbsp;2.33e-02&nbsp;&nbsp;&nbsp;&nbsp;&nbsp;&nbsp;2.074&nbsp;&nbsp;&nbsp;&nbsp;&nbsp;&nbsp;6.71e-02<br>\n",
    ".....&nbsp;&nbsp;&nbsp;&nbsp;&nbsp;&nbsp;&nbsp;&nbsp;&nbsp;&nbsp;.....&nbsp;&nbsp;&nbsp;&nbsp;&nbsp;&nbsp;&nbsp;&nbsp;&nbsp;&nbsp;.....&nbsp;&nbsp;&nbsp;&nbsp;&nbsp;&nbsp;&nbsp;&nbsp;&nbsp;&nbsp;&nbsp;&nbsp;&nbsp;&nbsp;&nbsp;.....&nbsp;&nbsp;&nbsp;&nbsp;&nbsp;&nbsp;&nbsp;&nbsp;&nbsp;&nbsp;.....*<br>"
   ]
  },
  {
   "cell_type": "code",
   "execution_count": null,
   "metadata": {},
   "outputs": [],
   "source": [
    "# save optical property data\n",
    "s.save_optical_prop('optichem_results/IPA_optical_properties.txt')"
   ]
  },
  {
   "cell_type": "markdown",
   "metadata": {},
   "source": [
    "**(10) For each vibrational mode (~absorption peak) there are 3 fitting parameters (see documentation). You can save the values of these fitting parameters so you can either load the fit later, or so you can stitch together many wavelength ranges. The modes are saved as as pandas DataFrame, which can be indepedently accessed with ```pandas.read_pickle()```**"
   ]
  },
  {
   "cell_type": "code",
   "execution_count": null,
   "metadata": {},
   "outputs": [],
   "source": [
    "# save vibrational modes for stiching\n",
    "s.save_modes('optichem_results/IPA_wL_range')"
   ]
  }
 ],
 "metadata": {
  "kernelspec": {
   "display_name": "Python 3",
   "language": "python",
   "name": "python3"
  },
  "language_info": {
   "codemirror_mode": {
    "name": "ipython",
    "version": 3
   },
   "file_extension": ".py",
   "mimetype": "text/x-python",
   "name": "python",
   "nbconvert_exporter": "python",
   "pygments_lexer": "ipython3",
   "version": "3.6.9"
  }
 },
 "nbformat": 4,
 "nbformat_minor": 4
}
