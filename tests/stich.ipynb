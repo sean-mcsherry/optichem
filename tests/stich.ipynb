{
 "cells": [
  {
   "cell_type": "code",
   "execution_count": 2,
   "metadata": {},
   "outputs": [
    {
     "data": {
      "application/vnd.jupyter.widget-view+json": {
       "model_id": "eedaf4c347b94ded94171897fa629601",
       "version_major": 2,
       "version_minor": 0
      },
      "text/plain": [
       "Canvas(toolbar=Toolbar(toolitems=[('Home', 'Reset original view', 'home', 'home'), ('Back', 'Back to previous …"
      ]
     },
     "metadata": {},
     "output_type": "display_data"
    }
   ],
   "source": [
    "# enable matplotlib widgets\n",
    "%matplotlib widget\n",
    "\n",
    "# import the class model from the semi_auto_fit module\n",
    "from optichem.semi_auto_fit import model \n",
    "s = model()\n",
    "\n",
    "# set the refractive index of the ATR crystal (2.4 for diamond, 4 for Ge, 3.4 for Si, or 2.4 for ZnSe)\n",
    "s.set_crystal_index(2.4 + 1j*1e-5)\n",
    "\n",
    "# set the angle of incidence (found in ATR manual)\n",
    "s.set_angle_of_incidence(45)\n",
    "\n",
    "# set the refractivde index in the visible spectrum (usually found on materials SDS)\n",
    "s.set_n(1.367)\n",
    "\n",
    "# set x-axis input units of uploaded spectra and desried output units options include: '1/m', 'Hz', 'rad/s', 'nm', 'um', 'm', 'eV'\n",
    "s.set_input_units('1/cm')\n",
    "s.set_output_units('um')\n",
    "\n",
    "# upload ATR data file\n",
    "s.upload('ATR_measurements/IPA_ATR_data.txt')\n"
   ]
  },
  {
   "cell_type": "code",
   "execution_count": 3,
   "metadata": {},
   "outputs": [
    {
     "data": {
      "application/vnd.jupyter.widget-view+json": {
       "model_id": "65128f3087574c0c8b226df39dad44a2",
       "version_major": 2,
       "version_minor": 0
      },
      "text/plain": [
       "Canvas(toolbar=Toolbar(toolitems=[('Home', 'Reset original view', 'home', 'home'), ('Back', 'Back to previous …"
      ]
     },
     "metadata": {},
     "output_type": "display_data"
    }
   ],
   "source": [
    "#s.set_range(6.7, 25)\n",
    "s.stich('optichem_results/IPA_wL_range_1','optichem_results/IPA_wL_range_2', 'optichem_results/IPA_wL_range_3')\n",
    "s.plot_fit()"
   ]
  },
  {
   "cell_type": "code",
   "execution_count": 4,
   "metadata": {},
   "outputs": [],
   "source": [
    "# save optical property data\n",
    "s.save_optical_prop('optichem_results/IPA_optical_properties_stich.txt')\n",
    "\n",
    "# save vibrational modes for stiching\n",
    "s.save_modes('optichem_results/IPA_modes')"
   ]
  }
 ],
 "metadata": {
  "kernelspec": {
   "display_name": "Python 3",
   "language": "python",
   "name": "python3"
  },
  "language_info": {
   "codemirror_mode": {
    "name": "ipython",
    "version": 3
   },
   "file_extension": ".py",
   "mimetype": "text/x-python",
   "name": "python",
   "nbconvert_exporter": "python",
   "pygments_lexer": "ipython3",
   "version": "3.6.9"
  }
 },
 "nbformat": 4,
 "nbformat_minor": 4
}
