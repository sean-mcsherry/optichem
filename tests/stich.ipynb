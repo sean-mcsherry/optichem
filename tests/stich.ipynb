{
 "cells": [
  {
   "cell_type": "code",
   "execution_count": 2,
   "metadata": {},
   "outputs": [
    {
     "data": {
      "application/vnd.jupyter.widget-view+json": {
       "model_id": "eedaf4c347b94ded94171897fa629601",
       "version_major": 2,
       "version_minor": 0
      },
      "text/plain": [
       "Canvas(toolbar=Toolbar(toolitems=[('Home', 'Reset original view', 'home', 'home'), ('Back', 'Back to previous …"
      ]
     },
     "metadata": {},
     "output_type": "display_data"
    }
   ],
   "source": [
    "#declare matplotlib widget to use interactive plots\n",
    "%matplotlib widget\n",
    "\n",
    "#import and definte the class model from the optichem.peak_click module\n",
    "from optichem.semi_auto_fit import model \n",
    "s = model()\n",
    "\n",
    "#set the refractive index of the ATR crystal\n",
    "s.set_crystal_index(2.4 + 1j*1e-5)\n",
    "\n",
    "#set the angle of incidence (found in ATR manual)\n",
    "s.set_angle_of_incidence(45)\n",
    "\n",
    "# --- set the high-frequency dielectric constant (found on materials SDS)\n",
    "s.set_n(1.367)\n",
    "\n",
    "# --- set input input/output units of wavelength\n",
    "s.set_input_units('1/cm')\n",
    "s.set_output_units('um')\n",
    "\n",
    "#upload data and set wavelength range\n",
    "s.upload('ATR_measurements/IPA_ATR_data.txt')"
   ]
  },
  {
   "cell_type": "code",
   "execution_count": 3,
   "metadata": {},
   "outputs": [
    {
     "data": {
      "application/vnd.jupyter.widget-view+json": {
       "model_id": "65128f3087574c0c8b226df39dad44a2",
       "version_major": 2,
       "version_minor": 0
      },
      "text/plain": [
       "Canvas(toolbar=Toolbar(toolitems=[('Home', 'Reset original view', 'home', 'home'), ('Back', 'Back to previous …"
      ]
     },
     "metadata": {},
     "output_type": "display_data"
    }
   ],
   "source": [
    "#s.set_range(6.7, 25)\n",
    "s.stich('optichem_results/IPA_wL_range_1','optichem_results/IPA_wL_range_2', 'optichem_results/IPA_wL_range_3')\n",
    "s.plot_fit()"
   ]
  },
  {
   "cell_type": "code",
   "execution_count": 4,
   "metadata": {},
   "outputs": [],
   "source": [
    "# save optical property data\n",
    "s.save_optical_prop('optichem_results/IPA_optical_properties.txt')\n",
    "\n",
    "# save vibrational modes for stiching\n",
    "s.save_modes('optichem_results/IPA_modes')"
   ]
  },
  {
   "cell_type": "code",
   "execution_count": null,
   "metadata": {},
   "outputs": [],
   "source": []
  }
 ],
 "metadata": {
  "kernelspec": {
   "display_name": "Python 3",
   "language": "python",
   "name": "python3"
  },
  "language_info": {
   "codemirror_mode": {
    "name": "ipython",
    "version": 3
   },
   "file_extension": ".py",
   "mimetype": "text/x-python",
   "name": "python",
   "nbconvert_exporter": "python",
   "pygments_lexer": "ipython3",
   "version": "3.6.9"
  }
 },
 "nbformat": 4,
 "nbformat_minor": 4
}
