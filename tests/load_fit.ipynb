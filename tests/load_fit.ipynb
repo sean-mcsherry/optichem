{
 "cells": [
  {
   "cell_type": "code",
   "execution_count": 2,
   "metadata": {},
   "outputs": [
    {
     "data": {
      "application/vnd.jupyter.widget-view+json": {
       "model_id": "5e168fc7d44f48689601052ac38fb750",
       "version_major": 2,
       "version_minor": 0
      },
      "text/plain": [
       "Canvas(toolbar=Toolbar(toolitems=[('Home', 'Reset original view', 'home', 'home'), ('Back', 'Back to previous …"
      ]
     },
     "metadata": {},
     "output_type": "display_data"
    }
   ],
   "source": [
    "# --- declare matplotlib widget to use interactive plots\n",
    "%matplotlib widget\n",
    "\n",
    "# --- import and definte the class model from the optichem.peak_click module\n",
    "from optichem.semi_auto_fit import model \n",
    "s = model()\n",
    "\n",
    "# --- set the refractive index of the ATR crystal\n",
    "s.set_crystal_index(2.4 + 1j*1e-5)\n",
    "\n",
    "# --- set the angle of incidence (found in ATR manual)\n",
    "s.set_angle_of_incidence(45)\n",
    "\n",
    "# --- set the high-frequency dielectric constant (found on materials SDS)\n",
    "s.set_n(1.367)\n",
    "\n",
    "# --- set input input/output units of wavelength\n",
    "s.set_input_units('1/cm')\n",
    "s.set_output_units('um')\n",
    "\n",
    "# --- upload data file\n",
    "s.load_data('ATR_measurements/IPA_ATR_data.txt')\n",
    "s.load_modes('optichem_results/IPA_modes')"
   ]
  },
  {
   "cell_type": "code",
   "execution_count": null,
   "metadata": {},
   "outputs": [],
   "source": []
  }
 ],
 "metadata": {
  "kernelspec": {
   "display_name": "Python 3",
   "language": "python",
   "name": "python3"
  },
  "language_info": {
   "codemirror_mode": {
    "name": "ipython",
    "version": 3
   },
   "file_extension": ".py",
   "mimetype": "text/x-python",
   "name": "python",
   "nbconvert_exporter": "python",
   "pygments_lexer": "ipython3",
   "version": "3.6.9"
  }
 },
 "nbformat": 4,
 "nbformat_minor": 4
}
