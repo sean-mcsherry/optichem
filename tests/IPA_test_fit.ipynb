{
 "cells": [
  {
   "cell_type": "code",
   "execution_count": 11,
   "metadata": {},
   "outputs": [
    {
     "data": {
      "application/vnd.jupyter.widget-view+json": {
       "model_id": "8352ec94dbd24175884a3eff0c6b4bb0",
       "version_major": 2,
       "version_minor": 0
      },
      "text/plain": [
       "Canvas(toolbar=Toolbar(toolitems=[('Home', 'Reset original view', 'home', 'home'), ('Back', 'Back to previous …"
      ]
     },
     "metadata": {},
     "output_type": "display_data"
    }
   ],
   "source": [
    "# --- declare matplotlib widget to use interactive plots\n",
    "%matplotlib widget\n",
    "\n",
    "# --- import and definte the class model from the optichem.peak_click module\n",
    "from optichem.semi_auto_fit import model \n",
    "s = model()\n",
    "\n",
    "# --- set the refractive index of the ATR crystal\n",
    "s.set_crystal_index(2.4 + 1j*1e-5)\n",
    "\n",
    "# --- set the angle of incidence (found in ATR manual)\n",
    "s.set_angle_of_incidence(45)\n",
    "\n",
    "# --- set the high-frequency dielectric constant (found on materials SDS)\n",
    "s.set_n(1.367)\n",
    "\n",
    "# --- set input input/output units of wavelength\n",
    "s.set_input_units('1/cm')\n",
    "s.set_output_units('um')\n",
    "\n",
    "# --- upload data file\n",
    "s.upload('ATR_measurements/IPA_ATR_data.txt')\n",
    "\n",
    "# --- set wavelength range manually\n",
    "s.set_range(6.75, 12.5) # range in 1/cm\n"
   ]
  },
  {
   "cell_type": "code",
   "execution_count": 7,
   "metadata": {},
   "outputs": [
    {
     "data": {
      "application/vnd.jupyter.widget-view+json": {
       "model_id": "31c7d11ea50646efb6ccfbfd939be5e5",
       "version_major": 2,
       "version_minor": 0
      },
      "text/plain": [
       "Canvas(toolbar=Toolbar(toolitems=[('Home', 'Reset original view', 'home', 'home'), ('Back', 'Back to previous …"
      ]
     },
     "metadata": {},
     "output_type": "display_data"
    }
   ],
   "source": [
    "# inital solver and plot results\n",
    "s.start_solver()\n",
    "s.plot_fit()"
   ]
  },
  {
   "cell_type": "code",
   "execution_count": 8,
   "metadata": {},
   "outputs": [],
   "source": [
    "# save optical property data\n",
    "s.save_optical_prop('IPA_optical_properties.txt')\n",
    "\n",
    "# save vibrational modes for stiching\n",
    "s.save_modes('optichem_results/IPA_wL_range_2')"
   ]
  },
  {
   "cell_type": "code",
   "execution_count": null,
   "metadata": {},
   "outputs": [],
   "source": []
  }
 ],
 "metadata": {
  "kernelspec": {
   "display_name": "Python 3",
   "language": "python",
   "name": "python3"
  },
  "language_info": {
   "codemirror_mode": {
    "name": "ipython",
    "version": 3
   },
   "file_extension": ".py",
   "mimetype": "text/x-python",
   "name": "python",
   "nbconvert_exporter": "python",
   "pygments_lexer": "ipython3",
   "version": "3.6.9"
  }
 },
 "nbformat": 4,
 "nbformat_minor": 4
}
